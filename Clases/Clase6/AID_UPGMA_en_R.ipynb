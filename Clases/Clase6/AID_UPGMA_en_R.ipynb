{
  "nbformat": 4,
  "nbformat_minor": 0,
  "metadata": {
    "colab": {
      "provenance": []
    },
    "kernelspec": {
      "name": "ir",
      "display_name": "R"
    },
    "language_info": {
      "name": "R"
    }
  },
  "cells": [
    {
      "cell_type": "markdown",
      "source": [
        "**UPGMA**"
      ],
      "metadata": {
        "id": "Zs9dQSrcnitZ"
      }
    },
    {
      "cell_type": "code",
      "source": [
        "options(repos = c(CRAN = \"http://cran.rstudio.com\"))"
      ],
      "metadata": {
        "id": "7ZJbSZYtqsKo"
      },
      "execution_count": null,
      "outputs": []
    },
    {
      "cell_type": "code",
      "source": [
        "install.packages(\"ape\")\n",
        "install.packages(\"phangorn\")\n",
        "install.packages(\"phytools\")\n",
        "install.packages(\"maps\")\n",
        "\n",
        "library(ape)\n",
        "library(phangorn)\n",
        "library(phytools)"
      ],
      "metadata": {
        "colab": {
          "base_uri": "https://localhost:8080/"
        },
        "id": "HQUfWL2UKcfY",
        "outputId": "82abd254-25a8-40e5-95b8-4422d469dc5a"
      },
      "execution_count": null,
      "outputs": [
        {
          "output_type": "stream",
          "name": "stderr",
          "text": [
            "Installing package into ‘/usr/local/lib/R/site-library’\n",
            "(as ‘lib’ is unspecified)\n",
            "\n",
            "Installing package into ‘/usr/local/lib/R/site-library’\n",
            "(as ‘lib’ is unspecified)\n",
            "\n",
            "Installing package into ‘/usr/local/lib/R/site-library’\n",
            "(as ‘lib’ is unspecified)\n",
            "\n",
            "Installing package into ‘/usr/local/lib/R/site-library’\n",
            "(as ‘lib’ is unspecified)\n",
            "\n"
          ]
        }
      ]
    },
    {
      "cell_type": "code",
      "source": [
        "matrizdist = matrix(c(0, 17, 21,31, 23,\n",
        "                      17, 0, 30, 34, 21,\n",
        "                      21, 30, 0, 28, 39,\n",
        "                      31, 34, 28, 0, 43,\n",
        "                      23, 21, 39, 43, 0),\n",
        "                 nrow = 5,\n",
        "                 byrow = T)\n",
        "\n",
        "matrizdist"
      ],
      "metadata": {
        "id": "Fo2Vdid8Mw5J",
        "colab": {
          "base_uri": "https://localhost:8080/",
          "height": 208
        },
        "outputId": "b64efc05-b21f-474d-e1b0-5810e48eb21a"
      },
      "execution_count": null,
      "outputs": [
        {
          "output_type": "display_data",
          "data": {
            "text/html": [
              "<table class=\"dataframe\">\n",
              "<caption>A matrix: 5 × 5 of type dbl</caption>\n",
              "<tbody>\n",
              "\t<tr><td> 0</td><td>17</td><td>21</td><td>31</td><td>23</td></tr>\n",
              "\t<tr><td>17</td><td> 0</td><td>30</td><td>34</td><td>21</td></tr>\n",
              "\t<tr><td>21</td><td>30</td><td> 0</td><td>28</td><td>39</td></tr>\n",
              "\t<tr><td>31</td><td>34</td><td>28</td><td> 0</td><td>43</td></tr>\n",
              "\t<tr><td>23</td><td>21</td><td>39</td><td>43</td><td> 0</td></tr>\n",
              "</tbody>\n",
              "</table>\n"
            ],
            "text/markdown": "\nA matrix: 5 × 5 of type dbl\n\n|  0 | 17 | 21 | 31 | 23 |\n| 17 |  0 | 30 | 34 | 21 |\n| 21 | 30 |  0 | 28 | 39 |\n| 31 | 34 | 28 |  0 | 43 |\n| 23 | 21 | 39 | 43 |  0 |\n\n",
            "text/latex": "A matrix: 5 × 5 of type dbl\n\\begin{tabular}{lllll}\n\t  0 & 17 & 21 & 31 & 23\\\\\n\t 17 &  0 & 30 & 34 & 21\\\\\n\t 21 & 30 &  0 & 28 & 39\\\\\n\t 31 & 34 & 28 &  0 & 43\\\\\n\t 23 & 21 & 39 & 43 &  0\\\\\n\\end{tabular}\n",
            "text/plain": [
              "     [,1] [,2] [,3] [,4] [,5]\n",
              "[1,]  0   17   21   31   23  \n",
              "[2,] 17    0   30   34   21  \n",
              "[3,] 21   30    0   28   39  \n",
              "[4,] 31   34   28    0   43  \n",
              "[5,] 23   21   39   43    0  "
            ]
          },
          "metadata": {}
        }
      ]
    },
    {
      "cell_type": "code",
      "source": [
        "row.names(matrizdist) <- c(\"a\",\"b\",\"c\",\"d\",\"e\")\n",
        "colnames(matrizdist) <- c(\"a\",\"b\",\"c\",\"d\",\"e\")\n",
        "matrizdist"
      ],
      "metadata": {
        "id": "rOn6U5U1ZsjS",
        "colab": {
          "base_uri": "https://localhost:8080/",
          "height": 223
        },
        "outputId": "bfffe6f8-4f88-4ea8-f2a7-801a4d7b47d0"
      },
      "execution_count": null,
      "outputs": [
        {
          "output_type": "display_data",
          "data": {
            "text/html": [
              "<table class=\"dataframe\">\n",
              "<caption>A matrix: 5 × 5 of type dbl</caption>\n",
              "<thead>\n",
              "\t<tr><th></th><th scope=col>a</th><th scope=col>b</th><th scope=col>c</th><th scope=col>d</th><th scope=col>e</th></tr>\n",
              "</thead>\n",
              "<tbody>\n",
              "\t<tr><th scope=row>a</th><td> 0</td><td>17</td><td>21</td><td>31</td><td>23</td></tr>\n",
              "\t<tr><th scope=row>b</th><td>17</td><td> 0</td><td>30</td><td>34</td><td>21</td></tr>\n",
              "\t<tr><th scope=row>c</th><td>21</td><td>30</td><td> 0</td><td>28</td><td>39</td></tr>\n",
              "\t<tr><th scope=row>d</th><td>31</td><td>34</td><td>28</td><td> 0</td><td>43</td></tr>\n",
              "\t<tr><th scope=row>e</th><td>23</td><td>21</td><td>39</td><td>43</td><td> 0</td></tr>\n",
              "</tbody>\n",
              "</table>\n"
            ],
            "text/markdown": "\nA matrix: 5 × 5 of type dbl\n\n| <!--/--> | a | b | c | d | e |\n|---|---|---|---|---|---|\n| a |  0 | 17 | 21 | 31 | 23 |\n| b | 17 |  0 | 30 | 34 | 21 |\n| c | 21 | 30 |  0 | 28 | 39 |\n| d | 31 | 34 | 28 |  0 | 43 |\n| e | 23 | 21 | 39 | 43 |  0 |\n\n",
            "text/latex": "A matrix: 5 × 5 of type dbl\n\\begin{tabular}{r|lllll}\n  & a & b & c & d & e\\\\\n\\hline\n\ta &  0 & 17 & 21 & 31 & 23\\\\\n\tb & 17 &  0 & 30 & 34 & 21\\\\\n\tc & 21 & 30 &  0 & 28 & 39\\\\\n\td & 31 & 34 & 28 &  0 & 43\\\\\n\te & 23 & 21 & 39 & 43 &  0\\\\\n\\end{tabular}\n",
            "text/plain": [
              "  a  b  c  d  e \n",
              "a  0 17 21 31 23\n",
              "b 17  0 30 34 21\n",
              "c 21 30  0 28 39\n",
              "d 31 34 28  0 43\n",
              "e 23 21 39 43  0"
            ]
          },
          "metadata": {}
        }
      ]
    },
    {
      "cell_type": "code",
      "source": [
        "arbolUPGMA = phangorn::upgma(matrizdist)\n",
        "plot(arbolUPGMA)"
      ],
      "metadata": {
        "colab": {
          "base_uri": "https://localhost:8080/",
          "height": 437
        },
        "id": "PlVhw-fgN4mp",
        "outputId": "86d1bcd8-c72e-4f72-8e24-0e7e60d1dc60"
      },
      "execution_count": null,
      "outputs": [
        {
          "output_type": "display_data",
          "data": {
            "text/plain": [
              "plot without title"
            ],
            "image/png": "[encoded data removed]"
          },
          "metadata": {
            "image/png": {
              "width": 420,
              "height": 420
            }
          }
        }
      ]
    },
    {
      "cell_type": "code",
      "source": [
        "plot(arbolUPGMA, type= \"p\", label.offset=0.0005, edge.lty=1, \n",
        "     node.pos=2, cex=0.8, edge.width=3, edge.color=\"red\", font=10)"
      ],
      "metadata": {
        "colab": {
          "base_uri": "https://localhost:8080/",
          "height": 437
        },
        "id": "ixuS-KBfPcwS",
        "outputId": "570c4b6f-67b6-452d-afd4-11ee87450c63"
      },
      "execution_count": null,
      "outputs": [
        {
          "output_type": "display_data",
          "data": {
            "text/plain": [
              "plot without title"
            ],
            "image/png": "[encoded data removed]"
          },
          "metadata": {
            "image/png": {
              "width": 420,
              "height": 420
            }
          }
        }
      ]
    }
  ]
}